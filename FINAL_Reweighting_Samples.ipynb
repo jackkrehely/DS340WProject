{
  "nbformat": 4,
  "nbformat_minor": 0,
  "metadata": {
    "colab": {
      "provenance": []
    },
    "kernelspec": {
      "name": "python3",
      "display_name": "Python 3"
    },
    "language_info": {
      "name": "python"
    }
  },
  "cells": [
    {
      "cell_type": "code",
      "execution_count": 3,
      "metadata": {
        "colab": {
          "base_uri": "https://localhost:8080/"
        },
        "collapsed": true,
        "id": "WQZnd-dubULF",
        "outputId": "2e6747d8-0222-402b-abc8-ca0361d783a4"
      },
      "outputs": [
        {
          "output_type": "stream",
          "name": "stdout",
          "text": [
            "Collecting aif360[All]\n",
            "  Using cached aif360-0.6.1-py3-none-any.whl.metadata (5.0 kB)\n",
            "Requirement already satisfied: numpy>=1.16 in /usr/local/lib/python3.10/dist-packages (from aif360[All]) (1.26.4)\n",
            "Requirement already satisfied: scipy>=1.2.0 in /usr/local/lib/python3.10/dist-packages (from aif360[All]) (1.13.1)\n",
            "Requirement already satisfied: pandas>=0.24.0 in /usr/local/lib/python3.10/dist-packages (from aif360[All]) (2.2.2)\n",
            "Requirement already satisfied: scikit-learn>=1.0 in /usr/local/lib/python3.10/dist-packages (from aif360[All]) (1.5.2)\n",
            "Requirement already satisfied: matplotlib in /usr/local/lib/python3.10/dist-packages (from aif360[All]) (3.8.0)\n",
            "Collecting skorch (from aif360[All])\n",
            "  Using cached skorch-1.0.0-py3-none-any.whl.metadata (11 kB)\n",
            "Collecting jupyter (from aif360[All])\n",
            "  Using cached jupyter-1.1.1-py2.py3-none-any.whl.metadata (2.0 kB)\n",
            "Collecting sphinx-rtd-theme (from aif360[All])\n",
            "  Using cached sphinx_rtd_theme-3.0.2-py2.py3-none-any.whl.metadata (4.4 kB)\n",
            "Collecting igraph[plotting] (from aif360[All])\n",
            "  Using cached igraph-0.11.8-cp39-abi3-manylinux_2_17_x86_64.manylinux2014_x86_64.whl.metadata (3.8 kB)\n",
            "Collecting lime (from aif360[All])\n",
            "  Using cached lime-0.2.0.1.tar.gz (275 kB)\n",
            "  Preparing metadata (setup.py) ... \u001b[?25l\u001b[?25hdone\n",
            "Requirement already satisfied: tqdm in /usr/local/lib/python3.10/dist-packages (from aif360[All]) (4.66.6)\n",
            "Collecting fairlearn~=0.7 (from aif360[All])\n",
            "  Using cached fairlearn-0.11.0-py3-none-any.whl.metadata (7.0 kB)\n",
            "Collecting colorama (from aif360[All])\n",
            "  Using cached colorama-0.4.6-py2.py3-none-any.whl.metadata (17 kB)\n",
            "Requirement already satisfied: tensorflow>=1.13.1 in /usr/local/lib/python3.10/dist-packages (from aif360[All]) (2.17.1)\n",
            "Requirement already satisfied: sphinx in /usr/local/lib/python3.10/dist-packages (from aif360[All]) (8.1.3)\n",
            "Requirement already satisfied: mlxtend in /usr/local/lib/python3.10/dist-packages (from aif360[All]) (0.23.3)\n",
            "Collecting inFairness>=0.2.2 (from aif360[All])\n",
            "  Using cached inFairness-0.2.3-py3-none-any.whl.metadata (8.1 kB)\n",
            "Collecting pytest-cov>=2.8.1 (from aif360[All])\n",
            "  Using cached pytest_cov-6.0.0-py3-none-any.whl.metadata (27 kB)\n",
            "Collecting ipympl (from aif360[All])\n",
            "  Using cached ipympl-0.9.4-py3-none-any.whl.metadata (8.7 kB)\n",
            "Requirement already satisfied: torch in /usr/local/lib/python3.10/dist-packages (from aif360[All]) (2.5.1+cu121)\n",
            "Requirement already satisfied: jinja2>3.1.0 in /usr/local/lib/python3.10/dist-packages (from aif360[All]) (3.1.4)\n",
            "Collecting adversarial-robustness-toolbox>=1.0.0 (from aif360[All])\n",
            "  Using cached adversarial_robustness_toolbox-1.18.2-py3-none-any.whl.metadata (11 kB)\n",
            "Collecting BlackBoxAuditing (from aif360[All])\n",
            "  Using cached BlackBoxAuditing-0.1.54.tar.gz (2.6 MB)\n",
            "  Preparing metadata (setup.py) ... \u001b[?25l\u001b[?25hdone\n",
            "Requirement already satisfied: seaborn in /usr/local/lib/python3.10/dist-packages (from aif360[All]) (0.13.2)\n",
            "Requirement already satisfied: rpy2 in /usr/local/lib/python3.10/dist-packages (from aif360[All]) (3.4.2)\n",
            "Requirement already satisfied: lightgbm in /usr/local/lib/python3.10/dist-packages (from aif360[All]) (4.5.0)\n",
            "Requirement already satisfied: pytest>=3.5 in /usr/local/lib/python3.10/dist-packages (from aif360[All]) (8.3.3)\n",
            "Collecting pot (from aif360[All])\n",
            "  Using cached POT-0.9.5-cp310-cp310-manylinux_2_17_x86_64.manylinux2014_x86_64.whl.metadata (34 kB)\n",
            "Requirement already satisfied: cvxpy>=1.0 in /usr/local/lib/python3.10/dist-packages (from aif360[All]) (1.5.4)\n",
            "Requirement already satisfied: six in /usr/local/lib/python3.10/dist-packages (from adversarial-robustness-toolbox>=1.0.0->aif360[All]) (1.16.0)\n",
            "Requirement already satisfied: setuptools in /usr/local/lib/python3.10/dist-packages (from adversarial-robustness-toolbox>=1.0.0->aif360[All]) (75.1.0)\n",
            "Requirement already satisfied: osqp>=0.6.2 in /usr/local/lib/python3.10/dist-packages (from cvxpy>=1.0->aif360[All]) (0.6.7.post3)\n",
            "Requirement already satisfied: ecos>=2 in /usr/local/lib/python3.10/dist-packages (from cvxpy>=1.0->aif360[All]) (2.0.14)\n",
            "Requirement already satisfied: clarabel>=0.5.0 in /usr/local/lib/python3.10/dist-packages (from cvxpy>=1.0->aif360[All]) (0.9.0)\n",
            "Requirement already satisfied: scs>=3.2.4.post1 in /usr/local/lib/python3.10/dist-packages (from cvxpy>=1.0->aif360[All]) (3.2.7)\n",
            "Requirement already satisfied: MarkupSafe>=2.0 in /usr/local/lib/python3.10/dist-packages (from jinja2>3.1.0->aif360[All]) (3.0.2)\n",
            "Requirement already satisfied: python-dateutil>=2.8.2 in /usr/local/lib/python3.10/dist-packages (from pandas>=0.24.0->aif360[All]) (2.8.2)\n",
            "Requirement already satisfied: pytz>=2020.1 in /usr/local/lib/python3.10/dist-packages (from pandas>=0.24.0->aif360[All]) (2024.2)\n",
            "Requirement already satisfied: tzdata>=2022.7 in /usr/local/lib/python3.10/dist-packages (from pandas>=0.24.0->aif360[All]) (2024.2)\n",
            "Requirement already satisfied: iniconfig in /usr/local/lib/python3.10/dist-packages (from pytest>=3.5->aif360[All]) (2.0.0)\n",
            "Requirement already satisfied: packaging in /usr/local/lib/python3.10/dist-packages (from pytest>=3.5->aif360[All]) (24.2)\n",
            "Requirement already satisfied: pluggy<2,>=1.5 in /usr/local/lib/python3.10/dist-packages (from pytest>=3.5->aif360[All]) (1.5.0)\n",
            "Requirement already satisfied: exceptiongroup>=1.0.0rc8 in /usr/local/lib/python3.10/dist-packages (from pytest>=3.5->aif360[All]) (1.2.2)\n",
            "Requirement already satisfied: tomli>=1 in /usr/local/lib/python3.10/dist-packages (from pytest>=3.5->aif360[All]) (2.1.0)\n",
            "Collecting coverage>=7.5 (from coverage[toml]>=7.5->pytest-cov>=2.8.1->aif360[All])\n",
            "  Using cached coverage-7.6.8-cp310-cp310-manylinux_2_5_x86_64.manylinux1_x86_64.manylinux_2_17_x86_64.manylinux2014_x86_64.whl.metadata (8.2 kB)\n",
            "Requirement already satisfied: joblib>=1.2.0 in /usr/local/lib/python3.10/dist-packages (from scikit-learn>=1.0->aif360[All]) (1.4.2)\n",
            "Requirement already satisfied: threadpoolctl>=3.1.0 in /usr/local/lib/python3.10/dist-packages (from scikit-learn>=1.0->aif360[All]) (3.5.0)\n",
            "Requirement already satisfied: absl-py>=1.0.0 in /usr/local/lib/python3.10/dist-packages (from tensorflow>=1.13.1->aif360[All]) (1.4.0)\n",
            "Requirement already satisfied: astunparse>=1.6.0 in /usr/local/lib/python3.10/dist-packages (from tensorflow>=1.13.1->aif360[All]) (1.6.3)\n",
            "Requirement already satisfied: flatbuffers>=24.3.25 in /usr/local/lib/python3.10/dist-packages (from tensorflow>=1.13.1->aif360[All]) (24.3.25)\n",
            "Requirement already satisfied: gast!=0.5.0,!=0.5.1,!=0.5.2,>=0.2.1 in /usr/local/lib/python3.10/dist-packages (from tensorflow>=1.13.1->aif360[All]) (0.6.0)\n",
            "Requirement already satisfied: google-pasta>=0.1.1 in /usr/local/lib/python3.10/dist-packages (from tensorflow>=1.13.1->aif360[All]) (0.2.0)\n",
            "Requirement already satisfied: h5py>=3.10.0 in /usr/local/lib/python3.10/dist-packages (from tensorflow>=1.13.1->aif360[All]) (3.12.1)\n",
            "Requirement already satisfied: libclang>=13.0.0 in /usr/local/lib/python3.10/dist-packages (from tensorflow>=1.13.1->aif360[All]) (18.1.1)\n",
            "Requirement already satisfied: ml-dtypes<0.5.0,>=0.3.1 in /usr/local/lib/python3.10/dist-packages (from tensorflow>=1.13.1->aif360[All]) (0.4.1)\n",
            "Requirement already satisfied: opt-einsum>=2.3.2 in /usr/local/lib/python3.10/dist-packages (from tensorflow>=1.13.1->aif360[All]) (3.4.0)\n",
            "Requirement already satisfied: protobuf!=4.21.0,!=4.21.1,!=4.21.2,!=4.21.3,!=4.21.4,!=4.21.5,<5.0.0dev,>=3.20.3 in /usr/local/lib/python3.10/dist-packages (from tensorflow>=1.13.1->aif360[All]) (4.25.5)\n",
            "Requirement already satisfied: requests<3,>=2.21.0 in /usr/local/lib/python3.10/dist-packages (from tensorflow>=1.13.1->aif360[All]) (2.32.3)\n",
            "Requirement already satisfied: termcolor>=1.1.0 in /usr/local/lib/python3.10/dist-packages (from tensorflow>=1.13.1->aif360[All]) (2.5.0)\n",
            "Requirement already satisfied: typing-extensions>=3.6.6 in /usr/local/lib/python3.10/dist-packages (from tensorflow>=1.13.1->aif360[All]) (4.12.2)\n",
            "Requirement already satisfied: wrapt>=1.11.0 in /usr/local/lib/python3.10/dist-packages (from tensorflow>=1.13.1->aif360[All]) (1.16.0)\n",
            "Requirement already satisfied: grpcio<2.0,>=1.24.3 in /usr/local/lib/python3.10/dist-packages (from tensorflow>=1.13.1->aif360[All]) (1.68.0)\n",
            "Requirement already satisfied: tensorboard<2.18,>=2.17 in /usr/local/lib/python3.10/dist-packages (from tensorflow>=1.13.1->aif360[All]) (2.17.1)\n",
            "Requirement already satisfied: keras>=3.2.0 in /usr/local/lib/python3.10/dist-packages (from tensorflow>=1.13.1->aif360[All]) (3.5.0)\n",
            "Requirement already satisfied: tensorflow-io-gcs-filesystem>=0.23.1 in /usr/local/lib/python3.10/dist-packages (from tensorflow>=1.13.1->aif360[All]) (0.37.1)\n",
            "Requirement already satisfied: filelock in /usr/local/lib/python3.10/dist-packages (from torch->aif360[All]) (3.16.1)\n",
            "Requirement already satisfied: networkx in /usr/local/lib/python3.10/dist-packages (from torch->aif360[All]) (3.4.2)\n",
            "Requirement already satisfied: fsspec in /usr/local/lib/python3.10/dist-packages (from torch->aif360[All]) (2024.10.0)\n",
            "Requirement already satisfied: sympy==1.13.1 in /usr/local/lib/python3.10/dist-packages (from torch->aif360[All]) (1.13.1)\n",
            "Requirement already satisfied: mpmath<1.4,>=1.1.0 in /usr/local/lib/python3.10/dist-packages (from sympy==1.13.1->torch->aif360[All]) (1.3.0)\n",
            "Collecting texttable>=1.6.2 (from igraph[plotting]; extra == \"all\"->aif360[All])\n",
            "  Using cached texttable-1.7.0-py2.py3-none-any.whl.metadata (9.8 kB)\n",
            "Collecting cairocffi>=1.2.0 (from igraph[plotting]; extra == \"all\"->aif360[All])\n",
            "  Using cached cairocffi-1.7.1-py3-none-any.whl.metadata (3.3 kB)\n",
            "Requirement already satisfied: ipython-genutils in /usr/local/lib/python3.10/dist-packages (from ipympl->aif360[All]) (0.2.0)\n",
            "Requirement already satisfied: ipython<9 in /usr/local/lib/python3.10/dist-packages (from ipympl->aif360[All]) (7.34.0)\n",
            "Requirement already satisfied: ipywidgets<9,>=7.6.0 in /usr/local/lib/python3.10/dist-packages (from ipympl->aif360[All]) (7.7.1)\n",
            "Requirement already satisfied: pillow in /usr/local/lib/python3.10/dist-packages (from ipympl->aif360[All]) (11.0.0)\n",
            "Requirement already satisfied: traitlets<6 in /usr/local/lib/python3.10/dist-packages (from ipympl->aif360[All]) (5.7.1)\n",
            "Requirement already satisfied: contourpy>=1.0.1 in /usr/local/lib/python3.10/dist-packages (from matplotlib->aif360[All]) (1.3.1)\n",
            "Requirement already satisfied: cycler>=0.10 in /usr/local/lib/python3.10/dist-packages (from matplotlib->aif360[All]) (0.12.1)\n",
            "Requirement already satisfied: fonttools>=4.22.0 in /usr/local/lib/python3.10/dist-packages (from matplotlib->aif360[All]) (4.55.0)\n",
            "Requirement already satisfied: kiwisolver>=1.0.1 in /usr/local/lib/python3.10/dist-packages (from matplotlib->aif360[All]) (1.4.7)\n",
            "Requirement already satisfied: pyparsing>=2.3.1 in /usr/local/lib/python3.10/dist-packages (from matplotlib->aif360[All]) (3.2.0)\n",
            "Requirement already satisfied: notebook in /usr/local/lib/python3.10/dist-packages (from jupyter->aif360[All]) (6.5.5)\n",
            "Requirement already satisfied: jupyter-console in /usr/local/lib/python3.10/dist-packages (from jupyter->aif360[All]) (6.1.0)\n",
            "Requirement already satisfied: nbconvert in /usr/local/lib/python3.10/dist-packages (from jupyter->aif360[All]) (7.16.4)\n",
            "Requirement already satisfied: ipykernel in /usr/local/lib/python3.10/dist-packages (from jupyter->aif360[All]) (5.5.6)\n",
            "Collecting jupyterlab (from jupyter->aif360[All])\n",
            "  Using cached jupyterlab-4.3.1-py3-none-any.whl.metadata (16 kB)\n",
            "Requirement already satisfied: scikit-image>=0.12 in /usr/local/lib/python3.10/dist-packages (from lime->aif360[All]) (0.24.0)\n",
            "Requirement already satisfied: cffi>=1.10.0 in /usr/local/lib/python3.10/dist-packages (from rpy2->aif360[All]) (1.17.1)\n",
            "Requirement already satisfied: tzlocal in /usr/local/lib/python3.10/dist-packages (from rpy2->aif360[All]) (5.2)\n",
            "Requirement already satisfied: tabulate>=0.7.7 in /usr/local/lib/python3.10/dist-packages (from skorch->aif360[All]) (0.9.0)\n",
            "Requirement already satisfied: sphinxcontrib-applehelp>=1.0.7 in /usr/local/lib/python3.10/dist-packages (from sphinx->aif360[All]) (2.0.0)\n",
            "Requirement already satisfied: sphinxcontrib-devhelp>=1.0.6 in /usr/local/lib/python3.10/dist-packages (from sphinx->aif360[All]) (2.0.0)\n",
            "Requirement already satisfied: sphinxcontrib-htmlhelp>=2.0.6 in /usr/local/lib/python3.10/dist-packages (from sphinx->aif360[All]) (2.1.0)\n",
            "Requirement already satisfied: sphinxcontrib-jsmath>=1.0.1 in /usr/local/lib/python3.10/dist-packages (from sphinx->aif360[All]) (1.0.1)\n",
            "Requirement already satisfied: sphinxcontrib-qthelp>=1.0.6 in /usr/local/lib/python3.10/dist-packages (from sphinx->aif360[All]) (2.0.0)\n",
            "Requirement already satisfied: sphinxcontrib-serializinghtml>=1.1.9 in /usr/local/lib/python3.10/dist-packages (from sphinx->aif360[All]) (2.0.0)\n",
            "Requirement already satisfied: Pygments>=2.17 in /usr/local/lib/python3.10/dist-packages (from sphinx->aif360[All]) (2.18.0)\n",
            "Requirement already satisfied: docutils<0.22,>=0.20 in /usr/local/lib/python3.10/dist-packages (from sphinx->aif360[All]) (0.21.2)\n",
            "Requirement already satisfied: snowballstemmer>=2.2 in /usr/local/lib/python3.10/dist-packages (from sphinx->aif360[All]) (2.2.0)\n",
            "Requirement already satisfied: babel>=2.13 in /usr/local/lib/python3.10/dist-packages (from sphinx->aif360[All]) (2.16.0)\n",
            "Requirement already satisfied: alabaster>=0.7.14 in /usr/local/lib/python3.10/dist-packages (from sphinx->aif360[All]) (1.0.0)\n",
            "Requirement already satisfied: imagesize>=1.3 in /usr/local/lib/python3.10/dist-packages (from sphinx->aif360[All]) (1.4.1)\n",
            "Collecting sphinxcontrib-jquery<5,>=4 (from sphinx-rtd-theme->aif360[All])\n",
            "  Using cached sphinxcontrib_jquery-4.1-py2.py3-none-any.whl.metadata (2.6 kB)\n",
            "Requirement already satisfied: wheel<1.0,>=0.23.0 in /usr/local/lib/python3.10/dist-packages (from astunparse>=1.6.0->tensorflow>=1.13.1->aif360[All]) (0.45.0)\n",
            "Requirement already satisfied: pycparser in /usr/local/lib/python3.10/dist-packages (from cffi>=1.10.0->rpy2->aif360[All]) (2.22)\n",
            "Collecting jedi>=0.16 (from ipython<9->ipympl->aif360[All])\n",
            "  Using cached jedi-0.19.2-py2.py3-none-any.whl.metadata (22 kB)\n",
            "Requirement already satisfied: decorator in /usr/local/lib/python3.10/dist-packages (from ipython<9->ipympl->aif360[All]) (4.4.2)\n",
            "Requirement already satisfied: pickleshare in /usr/local/lib/python3.10/dist-packages (from ipython<9->ipympl->aif360[All]) (0.7.5)\n",
            "Requirement already satisfied: prompt-toolkit!=3.0.0,!=3.0.1,<3.1.0,>=2.0.0 in /usr/local/lib/python3.10/dist-packages (from ipython<9->ipympl->aif360[All]) (3.0.48)\n",
            "Requirement already satisfied: backcall in /usr/local/lib/python3.10/dist-packages (from ipython<9->ipympl->aif360[All]) (0.2.0)\n",
            "Requirement already satisfied: matplotlib-inline in /usr/local/lib/python3.10/dist-packages (from ipython<9->ipympl->aif360[All]) (0.1.7)\n",
            "Requirement already satisfied: pexpect>4.3 in /usr/local/lib/python3.10/dist-packages (from ipython<9->ipympl->aif360[All]) (4.9.0)\n",
            "Requirement already satisfied: widgetsnbextension~=3.6.0 in /usr/local/lib/python3.10/dist-packages (from ipywidgets<9,>=7.6.0->ipympl->aif360[All]) (3.6.10)\n",
            "Requirement already satisfied: jupyterlab-widgets>=1.0.0 in /usr/local/lib/python3.10/dist-packages (from ipywidgets<9,>=7.6.0->ipympl->aif360[All]) (3.0.13)\n",
            "Requirement already satisfied: jupyter-client in /usr/local/lib/python3.10/dist-packages (from ipykernel->jupyter->aif360[All]) (6.1.12)\n",
            "Requirement already satisfied: tornado>=4.2 in /usr/local/lib/python3.10/dist-packages (from ipykernel->jupyter->aif360[All]) (6.3.3)\n",
            "Requirement already satisfied: rich in /usr/local/lib/python3.10/dist-packages (from keras>=3.2.0->tensorflow>=1.13.1->aif360[All]) (13.9.4)\n",
            "Requirement already satisfied: namex in /usr/local/lib/python3.10/dist-packages (from keras>=3.2.0->tensorflow>=1.13.1->aif360[All]) (0.0.8)\n",
            "Requirement already satisfied: optree in /usr/local/lib/python3.10/dist-packages (from keras>=3.2.0->tensorflow>=1.13.1->aif360[All]) (0.13.1)\n",
            "Requirement already satisfied: qdldl in /usr/local/lib/python3.10/dist-packages (from osqp>=0.6.2->cvxpy>=1.0->aif360[All]) (0.1.7.post4)\n",
            "Requirement already satisfied: charset-normalizer<4,>=2 in /usr/local/lib/python3.10/dist-packages (from requests<3,>=2.21.0->tensorflow>=1.13.1->aif360[All]) (3.4.0)\n",
            "Requirement already satisfied: idna<4,>=2.5 in /usr/local/lib/python3.10/dist-packages (from requests<3,>=2.21.0->tensorflow>=1.13.1->aif360[All]) (3.10)\n",
            "Requirement already satisfied: urllib3<3,>=1.21.1 in /usr/local/lib/python3.10/dist-packages (from requests<3,>=2.21.0->tensorflow>=1.13.1->aif360[All]) (2.2.3)\n",
            "Requirement already satisfied: certifi>=2017.4.17 in /usr/local/lib/python3.10/dist-packages (from requests<3,>=2.21.0->tensorflow>=1.13.1->aif360[All]) (2024.8.30)\n",
            "Requirement already satisfied: imageio>=2.33 in /usr/local/lib/python3.10/dist-packages (from scikit-image>=0.12->lime->aif360[All]) (2.36.0)\n",
            "Requirement already satisfied: tifffile>=2022.8.12 in /usr/local/lib/python3.10/dist-packages (from scikit-image>=0.12->lime->aif360[All]) (2024.9.20)\n",
            "Requirement already satisfied: lazy-loader>=0.4 in /usr/local/lib/python3.10/dist-packages (from scikit-image>=0.12->lime->aif360[All]) (0.4)\n",
            "Requirement already satisfied: markdown>=2.6.8 in /usr/local/lib/python3.10/dist-packages (from tensorboard<2.18,>=2.17->tensorflow>=1.13.1->aif360[All]) (3.7)\n",
            "Requirement already satisfied: tensorboard-data-server<0.8.0,>=0.7.0 in /usr/local/lib/python3.10/dist-packages (from tensorboard<2.18,>=2.17->tensorflow>=1.13.1->aif360[All]) (0.7.2)\n",
            "Requirement already satisfied: werkzeug>=1.0.1 in /usr/local/lib/python3.10/dist-packages (from tensorboard<2.18,>=2.17->tensorflow>=1.13.1->aif360[All]) (3.1.3)\n",
            "Collecting async-lru>=1.0.0 (from jupyterlab->jupyter->aif360[All])\n",
            "  Using cached async_lru-2.0.4-py3-none-any.whl.metadata (4.5 kB)\n",
            "Requirement already satisfied: httpx>=0.25.0 in /usr/local/lib/python3.10/dist-packages (from jupyterlab->jupyter->aif360[All]) (0.27.2)\n",
            "Collecting ipykernel (from jupyter->aif360[All])\n",
            "  Using cached ipykernel-6.29.5-py3-none-any.whl.metadata (6.3 kB)\n",
            "Requirement already satisfied: jupyter-core in /usr/local/lib/python3.10/dist-packages (from jupyterlab->jupyter->aif360[All]) (5.7.2)\n",
            "Collecting jupyter-lsp>=2.0.0 (from jupyterlab->jupyter->aif360[All])\n",
            "  Using cached jupyter_lsp-2.2.5-py3-none-any.whl.metadata (1.8 kB)\n",
            "Collecting jupyter-server<3,>=2.4.0 (from jupyterlab->jupyter->aif360[All])\n",
            "  Using cached jupyter_server-2.14.2-py3-none-any.whl.metadata (8.4 kB)\n",
            "Collecting jupyterlab-server<3,>=2.27.1 (from jupyterlab->jupyter->aif360[All])\n",
            "  Using cached jupyterlab_server-2.27.3-py3-none-any.whl.metadata (5.9 kB)\n",
            "Requirement already satisfied: notebook-shim>=0.2 in /usr/local/lib/python3.10/dist-packages (from jupyterlab->jupyter->aif360[All]) (0.2.4)\n",
            "Collecting comm>=0.1.1 (from ipykernel->jupyter->aif360[All])\n",
            "  Using cached comm-0.2.2-py3-none-any.whl.metadata (3.7 kB)\n",
            "Requirement already satisfied: debugpy>=1.6.5 in /usr/local/lib/python3.10/dist-packages (from ipykernel->jupyter->aif360[All]) (1.8.0)\n",
            "Requirement already satisfied: nest-asyncio in /usr/local/lib/python3.10/dist-packages (from ipykernel->jupyter->aif360[All]) (1.6.0)\n",
            "Requirement already satisfied: psutil in /usr/local/lib/python3.10/dist-packages (from ipykernel->jupyter->aif360[All]) (5.9.5)\n",
            "Requirement already satisfied: pyzmq>=24 in /usr/local/lib/python3.10/dist-packages (from ipykernel->jupyter->aif360[All]) (24.0.1)\n",
            "Requirement already satisfied: beautifulsoup4 in /usr/local/lib/python3.10/dist-packages (from nbconvert->jupyter->aif360[All]) (4.12.3)\n",
            "Requirement already satisfied: bleach!=5.0.0 in /usr/local/lib/python3.10/dist-packages (from nbconvert->jupyter->aif360[All]) (6.2.0)\n",
            "Requirement already satisfied: defusedxml in /usr/local/lib/python3.10/dist-packages (from nbconvert->jupyter->aif360[All]) (0.7.1)\n",
            "Requirement already satisfied: jupyterlab-pygments in /usr/local/lib/python3.10/dist-packages (from nbconvert->jupyter->aif360[All]) (0.3.0)\n",
            "Requirement already satisfied: mistune<4,>=2.0.3 in /usr/local/lib/python3.10/dist-packages (from nbconvert->jupyter->aif360[All]) (3.0.2)\n",
            "Requirement already satisfied: nbclient>=0.5.0 in /usr/local/lib/python3.10/dist-packages (from nbconvert->jupyter->aif360[All]) (0.10.0)\n",
            "Requirement already satisfied: nbformat>=5.7 in /usr/local/lib/python3.10/dist-packages (from nbconvert->jupyter->aif360[All]) (5.10.4)\n",
            "Requirement already satisfied: pandocfilters>=1.4.1 in /usr/local/lib/python3.10/dist-packages (from nbconvert->jupyter->aif360[All]) (1.5.1)\n",
            "Requirement already satisfied: tinycss2 in /usr/local/lib/python3.10/dist-packages (from nbconvert->jupyter->aif360[All]) (1.4.0)\n",
            "Requirement already satisfied: argon2-cffi in /usr/local/lib/python3.10/dist-packages (from notebook->jupyter->aif360[All]) (23.1.0)\n",
            "Requirement already satisfied: Send2Trash>=1.8.0 in /usr/local/lib/python3.10/dist-packages (from notebook->jupyter->aif360[All]) (1.8.3)\n",
            "Requirement already satisfied: terminado>=0.8.3 in /usr/local/lib/python3.10/dist-packages (from notebook->jupyter->aif360[All]) (0.18.1)\n",
            "Requirement already satisfied: prometheus-client in /usr/local/lib/python3.10/dist-packages (from notebook->jupyter->aif360[All]) (0.21.0)\n",
            "Requirement already satisfied: nbclassic>=0.4.7 in /usr/local/lib/python3.10/dist-packages (from notebook->jupyter->aif360[All]) (1.1.0)\n",
            "Requirement already satisfied: webencodings in /usr/local/lib/python3.10/dist-packages (from bleach!=5.0.0->nbconvert->jupyter->aif360[All]) (0.5.1)\n",
            "Requirement already satisfied: anyio in /usr/local/lib/python3.10/dist-packages (from httpx>=0.25.0->jupyterlab->jupyter->aif360[All]) (3.7.1)\n",
            "Requirement already satisfied: httpcore==1.* in /usr/local/lib/python3.10/dist-packages (from httpx>=0.25.0->jupyterlab->jupyter->aif360[All]) (1.0.7)\n",
            "Requirement already satisfied: sniffio in /usr/local/lib/python3.10/dist-packages (from httpx>=0.25.0->jupyterlab->jupyter->aif360[All]) (1.3.1)\n",
            "Requirement already satisfied: h11<0.15,>=0.13 in /usr/local/lib/python3.10/dist-packages (from httpcore==1.*->httpx>=0.25.0->jupyterlab->jupyter->aif360[All]) (0.14.0)\n",
            "Requirement already satisfied: parso<0.9.0,>=0.8.4 in /usr/local/lib/python3.10/dist-packages (from jedi>=0.16->ipython<9->ipympl->aif360[All]) (0.8.4)\n",
            "Requirement already satisfied: platformdirs>=2.5 in /usr/local/lib/python3.10/dist-packages (from jupyter-core->jupyterlab->jupyter->aif360[All]) (4.3.6)\n",
            "Collecting jupyter-client (from jupyter-console->jupyter->aif360[All])\n",
            "  Using cached jupyter_client-7.4.9-py3-none-any.whl.metadata (8.5 kB)\n",
            "Collecting jupyter-events>=0.9.0 (from jupyter-server<3,>=2.4.0->jupyterlab->jupyter->aif360[All])\n",
            "  Using cached jupyter_events-0.10.0-py3-none-any.whl.metadata (5.9 kB)\n",
            "Collecting jupyter-server-terminals>=0.4.4 (from jupyter-server<3,>=2.4.0->jupyterlab->jupyter->aif360[All])\n",
            "  Using cached jupyter_server_terminals-0.5.3-py3-none-any.whl.metadata (5.6 kB)\n",
            "Collecting overrides>=5.0 (from jupyter-server<3,>=2.4.0->jupyterlab->jupyter->aif360[All])\n",
            "  Using cached overrides-7.7.0-py3-none-any.whl.metadata (5.8 kB)\n",
            "Requirement already satisfied: websocket-client>=1.7 in /usr/local/lib/python3.10/dist-packages (from jupyter-server<3,>=2.4.0->jupyterlab->jupyter->aif360[All]) (1.8.0)\n",
            "Requirement already satisfied: argon2-cffi-bindings in /usr/local/lib/python3.10/dist-packages (from argon2-cffi->notebook->jupyter->aif360[All]) (21.2.0)\n",
            "Requirement already satisfied: entrypoints in /usr/local/lib/python3.10/dist-packages (from jupyter-client->jupyter-console->jupyter->aif360[All]) (0.4)\n",
            "Collecting json5>=0.9.0 (from jupyterlab-server<3,>=2.27.1->jupyterlab->jupyter->aif360[All])\n",
            "  Using cached json5-0.10.0-py3-none-any.whl.metadata (34 kB)\n",
            "Requirement already satisfied: jsonschema>=4.18.0 in /usr/local/lib/python3.10/dist-packages (from jupyterlab-server<3,>=2.27.1->jupyterlab->jupyter->aif360[All]) (4.23.0)\n",
            "Requirement already satisfied: fastjsonschema>=2.15 in /usr/local/lib/python3.10/dist-packages (from nbformat>=5.7->nbconvert->jupyter->aif360[All]) (2.20.0)\n",
            "Requirement already satisfied: ptyprocess>=0.5 in /usr/local/lib/python3.10/dist-packages (from pexpect>4.3->ipython<9->ipympl->aif360[All]) (0.7.0)\n",
            "Requirement already satisfied: wcwidth in /usr/local/lib/python3.10/dist-packages (from prompt-toolkit!=3.0.0,!=3.0.1,<3.1.0,>=2.0.0->ipython<9->ipympl->aif360[All]) (0.2.13)\n",
            "Requirement already satisfied: soupsieve>1.2 in /usr/local/lib/python3.10/dist-packages (from beautifulsoup4->nbconvert->jupyter->aif360[All]) (2.6)\n",
            "Requirement already satisfied: markdown-it-py>=2.2.0 in /usr/local/lib/python3.10/dist-packages (from rich->keras>=3.2.0->tensorflow>=1.13.1->aif360[All]) (3.0.0)\n",
            "Requirement already satisfied: attrs>=22.2.0 in /usr/local/lib/python3.10/dist-packages (from jsonschema>=4.18.0->jupyterlab-server<3,>=2.27.1->jupyterlab->jupyter->aif360[All]) (24.2.0)\n",
            "Requirement already satisfied: jsonschema-specifications>=2023.03.6 in /usr/local/lib/python3.10/dist-packages (from jsonschema>=4.18.0->jupyterlab-server<3,>=2.27.1->jupyterlab->jupyter->aif360[All]) (2024.10.1)\n",
            "Requirement already satisfied: referencing>=0.28.4 in /usr/local/lib/python3.10/dist-packages (from jsonschema>=4.18.0->jupyterlab-server<3,>=2.27.1->jupyterlab->jupyter->aif360[All]) (0.35.1)\n",
            "Requirement already satisfied: rpds-py>=0.7.1 in /usr/local/lib/python3.10/dist-packages (from jsonschema>=4.18.0->jupyterlab-server<3,>=2.27.1->jupyterlab->jupyter->aif360[All]) (0.21.0)\n",
            "Collecting python-json-logger>=2.0.4 (from jupyter-events>=0.9.0->jupyter-server<3,>=2.4.0->jupyterlab->jupyter->aif360[All])\n",
            "  Using cached python_json_logger-2.0.7-py3-none-any.whl.metadata (6.5 kB)\n",
            "Requirement already satisfied: pyyaml>=5.3 in /usr/local/lib/python3.10/dist-packages (from jupyter-events>=0.9.0->jupyter-server<3,>=2.4.0->jupyterlab->jupyter->aif360[All]) (6.0.2)\n",
            "Collecting rfc3339-validator (from jupyter-events>=0.9.0->jupyter-server<3,>=2.4.0->jupyterlab->jupyter->aif360[All])\n",
            "  Using cached rfc3339_validator-0.1.4-py2.py3-none-any.whl.metadata (1.5 kB)\n",
            "Collecting rfc3986-validator>=0.1.1 (from jupyter-events>=0.9.0->jupyter-server<3,>=2.4.0->jupyterlab->jupyter->aif360[All])\n",
            "  Using cached rfc3986_validator-0.1.1-py2.py3-none-any.whl.metadata (1.7 kB)\n",
            "Requirement already satisfied: mdurl~=0.1 in /usr/local/lib/python3.10/dist-packages (from markdown-it-py>=2.2.0->rich->keras>=3.2.0->tensorflow>=1.13.1->aif360[All]) (0.1.2)\n",
            "Collecting fqdn (from jsonschema[format-nongpl]>=4.18.0->jupyter-events>=0.9.0->jupyter-server<3,>=2.4.0->jupyterlab->jupyter->aif360[All])\n",
            "  Using cached fqdn-1.5.1-py3-none-any.whl.metadata (1.4 kB)\n",
            "Collecting isoduration (from jsonschema[format-nongpl]>=4.18.0->jupyter-events>=0.9.0->jupyter-server<3,>=2.4.0->jupyterlab->jupyter->aif360[All])\n",
            "  Using cached isoduration-20.11.0-py3-none-any.whl.metadata (5.7 kB)\n",
            "Requirement already satisfied: jsonpointer>1.13 in /usr/local/lib/python3.10/dist-packages (from jsonschema[format-nongpl]>=4.18.0->jupyter-events>=0.9.0->jupyter-server<3,>=2.4.0->jupyterlab->jupyter->aif360[All]) (3.0.0)\n",
            "Collecting uri-template (from jsonschema[format-nongpl]>=4.18.0->jupyter-events>=0.9.0->jupyter-server<3,>=2.4.0->jupyterlab->jupyter->aif360[All])\n",
            "  Using cached uri_template-1.3.0-py3-none-any.whl.metadata (8.8 kB)\n",
            "Requirement already satisfied: webcolors>=24.6.0 in /usr/local/lib/python3.10/dist-packages (from jsonschema[format-nongpl]>=4.18.0->jupyter-events>=0.9.0->jupyter-server<3,>=2.4.0->jupyterlab->jupyter->aif360[All]) (24.11.1)\n",
            "Collecting arrow>=0.15.0 (from isoduration->jsonschema[format-nongpl]>=4.18.0->jupyter-events>=0.9.0->jupyter-server<3,>=2.4.0->jupyterlab->jupyter->aif360[All])\n",
            "  Using cached arrow-1.3.0-py3-none-any.whl.metadata (7.5 kB)\n",
            "Collecting types-python-dateutil>=2.8.10 (from arrow>=0.15.0->isoduration->jsonschema[format-nongpl]>=4.18.0->jupyter-events>=0.9.0->jupyter-server<3,>=2.4.0->jupyterlab->jupyter->aif360[All])\n",
            "  Using cached types_python_dateutil-2.9.0.20241003-py3-none-any.whl.metadata (1.9 kB)\n",
            "Using cached adversarial_robustness_toolbox-1.18.2-py3-none-any.whl (1.7 MB)\n",
            "Using cached fairlearn-0.11.0-py3-none-any.whl (232 kB)\n",
            "Using cached inFairness-0.2.3-py3-none-any.whl (45 kB)\n",
            "Using cached POT-0.9.5-cp310-cp310-manylinux_2_17_x86_64.manylinux2014_x86_64.whl (865 kB)\n",
            "Using cached pytest_cov-6.0.0-py3-none-any.whl (22 kB)\n",
            "Using cached aif360-0.6.1-py3-none-any.whl (259 kB)\n",
            "Using cached colorama-0.4.6-py2.py3-none-any.whl (25 kB)\n",
            "Using cached ipympl-0.9.4-py3-none-any.whl (516 kB)\n",
            "Using cached jupyter-1.1.1-py2.py3-none-any.whl (2.7 kB)\n",
            "Using cached skorch-1.0.0-py3-none-any.whl (239 kB)\n",
            "Using cached sphinx_rtd_theme-3.0.2-py2.py3-none-any.whl (7.7 MB)\n",
            "Using cached cairocffi-1.7.1-py3-none-any.whl (75 kB)\n",
            "Using cached coverage-7.6.8-cp310-cp310-manylinux_2_5_x86_64.manylinux1_x86_64.manylinux_2_17_x86_64.manylinux2014_x86_64.whl (234 kB)\n",
            "Using cached sphinxcontrib_jquery-4.1-py2.py3-none-any.whl (121 kB)\n",
            "Using cached texttable-1.7.0-py2.py3-none-any.whl (10 kB)\n",
            "Using cached igraph-0.11.8-cp39-abi3-manylinux_2_17_x86_64.manylinux2014_x86_64.whl (3.1 MB)\n",
            "Using cached jupyterlab-4.3.1-py3-none-any.whl (11.7 MB)\n",
            "Using cached ipykernel-6.29.5-py3-none-any.whl (117 kB)\n",
            "Using cached async_lru-2.0.4-py3-none-any.whl (6.1 kB)\n",
            "Using cached comm-0.2.2-py3-none-any.whl (7.2 kB)\n",
            "Using cached jedi-0.19.2-py2.py3-none-any.whl (1.6 MB)\n",
            "Using cached jupyter_lsp-2.2.5-py3-none-any.whl (69 kB)\n",
            "Using cached jupyter_server-2.14.2-py3-none-any.whl (383 kB)\n",
            "Using cached jupyter_client-7.4.9-py3-none-any.whl (133 kB)\n",
            "Using cached jupyterlab_server-2.27.3-py3-none-any.whl (59 kB)\n",
            "Using cached json5-0.10.0-py3-none-any.whl (34 kB)\n",
            "Using cached jupyter_events-0.10.0-py3-none-any.whl (18 kB)\n",
            "Using cached jupyter_server_terminals-0.5.3-py3-none-any.whl (13 kB)\n",
            "Using cached overrides-7.7.0-py3-none-any.whl (17 kB)\n",
            "Using cached python_json_logger-2.0.7-py3-none-any.whl (8.1 kB)\n",
            "Using cached rfc3986_validator-0.1.1-py2.py3-none-any.whl (4.2 kB)\n",
            "Using cached rfc3339_validator-0.1.4-py2.py3-none-any.whl (3.5 kB)\n",
            "Using cached fqdn-1.5.1-py3-none-any.whl (9.1 kB)\n",
            "Using cached isoduration-20.11.0-py3-none-any.whl (11 kB)\n",
            "Using cached uri_template-1.3.0-py3-none-any.whl (11 kB)\n",
            "Using cached arrow-1.3.0-py3-none-any.whl (66 kB)\n",
            "Using cached types_python_dateutil-2.9.0.20241003-py3-none-any.whl (9.7 kB)\n",
            "Building wheels for collected packages: BlackBoxAuditing, lime\n",
            "  Building wheel for BlackBoxAuditing (setup.py) ... \u001b[?25l\u001b[?25hdone\n",
            "  Created wheel for BlackBoxAuditing: filename=BlackBoxAuditing-0.1.54-py2.py3-none-any.whl size=1394756 sha256=a38f35fddb004735457ffc19e8f3f5206379da7d7fdca84e4f50f1bfcbad29ce\n",
            "  Stored in directory: /root/.cache/pip/wheels/c0/4f/b1/80e1b0790df07536470758fe0a4f9ff8fa942fd9fe30bbb192\n",
            "  Building wheel for lime (setup.py) ... \u001b[?25l\u001b[?25hdone\n",
            "  Created wheel for lime: filename=lime-0.2.0.1-py3-none-any.whl size=283834 sha256=5ae8a139f5dc5a2df0ce833d40eb7f1505353e5ce92a84f8b0295cce3cc427ee\n",
            "  Stored in directory: /root/.cache/pip/wheels/fd/a2/af/9ac0a1a85a27f314a06b39e1f492bee1547d52549a4606ed89\n",
            "Successfully built BlackBoxAuditing lime\n",
            "Installing collected packages: texttable, uri-template, types-python-dateutil, rfc3986-validator, rfc3339-validator, python-json-logger, overrides, json5, jedi, igraph, fqdn, coverage, comm, colorama, async-lru, pot, jupyter-server-terminals, jupyter-client, cairocffi, arrow, sphinxcontrib-jquery, skorch, pytest-cov, lime, isoduration, ipykernel, inFairness, fairlearn, BlackBoxAuditing, aif360, adversarial-robustness-toolbox, sphinx-rtd-theme, jupyter-events, jupyter-server, jupyterlab-server, jupyter-lsp, jupyterlab, jupyter, ipympl\n",
            "  Attempting uninstall: jupyter-client\n",
            "    Found existing installation: jupyter-client 6.1.12\n",
            "    Uninstalling jupyter-client-6.1.12:\n",
            "      Successfully uninstalled jupyter-client-6.1.12\n",
            "  Attempting uninstall: ipykernel\n",
            "    Found existing installation: ipykernel 5.5.6\n",
            "    Uninstalling ipykernel-5.5.6:\n",
            "      Successfully uninstalled ipykernel-5.5.6\n",
            "  Attempting uninstall: jupyter-server\n",
            "    Found existing installation: jupyter-server 1.24.0\n",
            "    Uninstalling jupyter-server-1.24.0:\n",
            "      Successfully uninstalled jupyter-server-1.24.0\n",
            "\u001b[31mERROR: pip's dependency resolver does not currently take into account all the packages that are installed. This behaviour is the source of the following dependency conflicts.\n",
            "google-colab 1.0.0 requires ipykernel==5.5.6, but you have ipykernel 6.29.5 which is incompatible.\u001b[0m\u001b[31m\n",
            "\u001b[0mSuccessfully installed BlackBoxAuditing-0.1.54 adversarial-robustness-toolbox-1.18.2 aif360-0.6.1 arrow-1.3.0 async-lru-2.0.4 cairocffi-1.7.1 colorama-0.4.6 comm-0.2.2 coverage-7.6.8 fairlearn-0.11.0 fqdn-1.5.1 igraph-0.11.8 inFairness-0.2.3 ipykernel-6.29.5 ipympl-0.9.4 isoduration-20.11.0 jedi-0.19.2 json5-0.10.0 jupyter-1.1.1 jupyter-client-7.4.9 jupyter-events-0.10.0 jupyter-lsp-2.2.5 jupyter-server-2.14.2 jupyter-server-terminals-0.5.3 jupyterlab-4.3.1 jupyterlab-server-2.27.3 lime-0.2.0.1 overrides-7.7.0 pot-0.9.5 pytest-cov-6.0.0 python-json-logger-2.0.7 rfc3339-validator-0.1.4 rfc3986-validator-0.1.1 skorch-1.0.0 sphinx-rtd-theme-3.0.2 sphinxcontrib-jquery-4.1 texttable-1.7.0 types-python-dateutil-2.9.0.20241003 uri-template-1.3.0\n"
          ]
        }
      ],
      "source": [
        "!pip install 'aif360[All]'"
      ]
    },
    {
      "cell_type": "code",
      "source": [
        "%matplotlib inline\n",
        "# Load all necessary packages\n",
        "import sys\n",
        "sys.path.append(\"../\")\n",
        "import numpy as np\n",
        "from tqdm import tqdm\n",
        "\n",
        "from aif360.datasets import BinaryLabelDataset\n",
        "from aif360.datasets import AdultDataset, GermanDataset, CompasDataset\n",
        "from aif360.metrics import BinaryLabelDatasetMetric\n",
        "from aif360.metrics import ClassificationMetric\n",
        "from aif360.algorithms.preprocessing.reweighing import Reweighing\n",
        "from aif360.algorithms.preprocessing.optim_preproc_helpers.data_preproc_functions\\\n",
        "        import load_preproc_data_adult, load_preproc_data_german, load_preproc_data_compas\n",
        "from sklearn.linear_model import LogisticRegression\n",
        "from sklearn.preprocessing import StandardScaler\n",
        "from sklearn.metrics import accuracy_score\n",
        "\n",
        "from IPython.display import Markdown, display\n",
        "import matplotlib.pyplot as plt\n",
        "\n",
        "import pandas as pd\n",
        "import numpy as np\n",
        "from sklearn.model_selection import train_test_split\n",
        "from sklearn.preprocessing import LabelEncoder, StandardScaler\n",
        "from sklearn.neighbors import KNeighborsClassifier\n",
        "from sklearn.linear_model import LogisticRegression\n",
        "from sklearn.ensemble import RandomForestClassifier\n",
        "from sklearn.metrics import (\n",
        "    accuracy_score,\n",
        "    balanced_accuracy_score,\n",
        "    classification_report,\n",
        "    precision_score,\n",
        "    confusion_matrix\n",
        ")\n",
        "from collections import defaultdict"
      ],
      "metadata": {
        "colab": {
          "base_uri": "https://localhost:8080/"
        },
        "collapsed": true,
        "id": "4gsuWe1ebYzS",
        "outputId": "58aeb597-e83b-4b80-f384-02ec3ceea800"
      },
      "execution_count": 4,
      "outputs": [
        {
          "output_type": "stream",
          "name": "stderr",
          "text": [
            "/usr/local/lib/python3.10/dist-packages/inFairness/utils/ndcg.py:37: FutureWarning: We've integrated functorch into PyTorch. As the final step of the integration, `functorch.vmap` is deprecated as of PyTorch 2.0 and will be deleted in a future version of PyTorch >= 2.3. Please use `torch.vmap` instead; see the PyTorch 2.0 release notes and/or the `torch.func` migration guide for more details https://pytorch.org/docs/main/func.migrating.html\n",
            "  vect_normalized_discounted_cumulative_gain = vmap(\n",
            "/usr/local/lib/python3.10/dist-packages/inFairness/utils/ndcg.py:48: FutureWarning: We've integrated functorch into PyTorch. As the final step of the integration, `functorch.vmap` is deprecated as of PyTorch 2.0 and will be deleted in a future version of PyTorch >= 2.3. Please use `torch.vmap` instead; see the PyTorch 2.0 release notes and/or the `torch.func` migration guide for more details https://pytorch.org/docs/main/func.migrating.html\n",
            "  monte_carlo_vect_ndcg = vmap(vect_normalized_discounted_cumulative_gain, in_dims=(0,))\n"
          ]
        }
      ]
    },
    {
      "cell_type": "code",
      "source": [
        "!wget https://raw.githubusercontent.com/Trusted-AI/AIF360/main/examples/common_utils.py\n",
        "from common_utils import compute_metrics"
      ],
      "metadata": {
        "colab": {
          "base_uri": "https://localhost:8080/"
        },
        "collapsed": true,
        "id": "6DEVsa_6bbQc",
        "outputId": "e0a3691e-3844-464e-ae03-ae4bef58ac8e"
      },
      "execution_count": 29,
      "outputs": [
        {
          "output_type": "stream",
          "name": "stdout",
          "text": [
            "--2024-12-02 18:22:11--  https://raw.githubusercontent.com/Trusted-AI/AIF360/main/examples/common_utils.py\n",
            "Resolving raw.githubusercontent.com (raw.githubusercontent.com)... 185.199.108.133, 185.199.109.133, 185.199.110.133, ...\n",
            "Connecting to raw.githubusercontent.com (raw.githubusercontent.com)|185.199.108.133|:443... connected.\n",
            "HTTP request sent, awaiting response... 200 OK\n",
            "Length: 1340 (1.3K) [text/plain]\n",
            "Saving to: ‘common_utils.py.1’\n",
            "\n",
            "common_utils.py.1   100%[===================>]   1.31K  --.-KB/s    in 0s      \n",
            "\n",
            "2024-12-02 18:22:12 (69.6 MB/s) - ‘common_utils.py.1’ saved [1340/1340]\n",
            "\n"
          ]
        }
      ]
    },
    {
      "cell_type": "code",
      "source": [
        "# Load the Drug Consumption dataset\n",
        "url = \"https://archive.ics.uci.edu/ml/machine-learning-databases/00373/drug_consumption.data\"\n",
        "columns = [\n",
        "    \"ID\", \"Age\", \"Gender\", \"Education\", \"Country\", \"Ethnicity\", \"Neuroticism\", \"Extraversion\",\n",
        "    \"Openness\", \"Agreeableness\", \"Conscientiousness\", \"Impulsiveness\", \"Sensation-seeking\",\n",
        "    \"Alcohol\", \"Amphetamines\", \"Amyl_nitrite\", \"Benzodiazepines\", \"Caffeine\", \"Cannabis\",\n",
        "    \"Chocolate\", \"Cocaine\", \"Crack\", \"Ecstasy\", \"Heroin\", \"Ketamine\", \"Legal_highs\", \"LSD\",\n",
        "    \"Methadone\", \"Mushrooms\", \"Nicotine\", \"Semer\", \"Volatile_substance\"\n",
        "]\n",
        "data = pd.read_csv(url, header=None, names=columns)"
      ],
      "metadata": {
        "id": "jbxilF-vbkCq"
      },
      "execution_count": 30,
      "outputs": []
    },
    {
      "cell_type": "code",
      "source": [
        "# Define target (Y) and bias group (B)\n",
        "target = \"Cannabis\"\n",
        "bias_group = \"Ethnicity\"\n",
        "\n",
        "# Binarize the target and bias group\n",
        "data[target] = data[target].apply(lambda x: 1 if x in [\"CL3\", \"CL4\", \"CL5\", \"CL6\"] else 0) #1 if they have used it before/often, 0 if not\n",
        "data[bias_group] = data[bias_group].apply(lambda x: 1 if x == -0.31685 else 0)   #1 if they are white, 0 if they are not white"
      ],
      "metadata": {
        "id": "ar262xD3che-"
      },
      "execution_count": 31,
      "outputs": []
    },
    {
      "cell_type": "code",
      "source": [
        "# Preprocess categorical features\n",
        "categorical_columns = data.select_dtypes(include=[\"object\"]).columns\n",
        "label_encoders = {}\n",
        "for col in categorical_columns:\n",
        "    encoder = LabelEncoder()\n",
        "    data[col] = encoder.fit_transform(data[col])\n",
        "    label_encoders[col] = encoder\n",
        "\n",
        "# Ensure all columns are numeric\n",
        "for col in data.columns:\n",
        "    if data[col].dtype == \"object\":\n",
        "        data[col] = pd.to_numeric(data[col], errors=\"coerce\")"
      ],
      "metadata": {
        "id": "HdIiQrX-fLcI"
      },
      "execution_count": 32,
      "outputs": []
    },
    {
      "cell_type": "code",
      "source": [
        "# Split dataset into train and test sets\n",
        "dataset_orig_train, dataset_orig_test = train_test_split(data, test_size=0.3, random_state=42)\n",
        "\n",
        "# Define features and target for training and testing\n",
        "X_train = dataset_orig_train.drop(columns=[target, bias_group])\n",
        "y_train = dataset_orig_train[target]\n",
        "X_test = dataset_orig_test.drop(columns=[target, bias_group])\n",
        "y_test = dataset_orig_test[target]\n",
        "\n",
        "# Convert features to float to avoid type issues\n",
        "X_train = X_train.astype(float)\n",
        "X_test = X_test.astype(float)\n",
        "\n",
        "# Create a BinaryLabelDataset instance with a different variable name\n",
        "dataset_bld_train = BinaryLabelDataset(df=dataset_orig_train,  # Use the original DataFrame here\n",
        "                                        label_names=[target],\n",
        "                                        protected_attribute_names=[bias_group])\n",
        "\n",
        "privileged_groups = [{bias_group: 1}]\n",
        "unprivileged_groups = [{bias_group: 0}]"
      ],
      "metadata": {
        "id": "K19IblYafdFM"
      },
      "execution_count": 33,
      "outputs": []
    },
    {
      "cell_type": "code",
      "source": [
        "dataset_orig_train = BinaryLabelDataset(df=dataset_orig_train,\n",
        "                                        label_names=[target],\n",
        "                                        protected_attribute_names=[bias_group])\n",
        "\n",
        "privileged_groups = [{bias_group: 1}]\n",
        "unprivileged_groups = [{bias_group: 0}]\n",
        "\n",
        "metric_orig_train = BinaryLabelDatasetMetric(dataset_orig_train,\n",
        "                                             unprivileged_groups=unprivileged_groups,\n",
        "                                             privileged_groups=privileged_groups)\n",
        "display(Markdown(\"#### Original training dataset\"))\n",
        "print(\"Difference in mean outcomes between unprivileged and privileged groups = %f\" % metric_orig_train.mean_difference())"
      ],
      "metadata": {
        "colab": {
          "base_uri": "https://localhost:8080/",
          "height": 74
        },
        "id": "_nWtHtPVjGY4",
        "outputId": "03ec29ce-9de3-4a44-968f-cc0bac57d43e"
      },
      "execution_count": 34,
      "outputs": [
        {
          "output_type": "display_data",
          "data": {
            "text/plain": [
              "<IPython.core.display.Markdown object>"
            ],
            "text/markdown": "#### Original training dataset"
          },
          "metadata": {}
        },
        {
          "output_type": "stream",
          "name": "stdout",
          "text": [
            "Difference in mean outcomes between unprivileged and privileged groups = -0.071082\n"
          ]
        }
      ]
    },
    {
      "cell_type": "code",
      "source": [
        "RW = Reweighing(unprivileged_groups=unprivileged_groups,\n",
        "               privileged_groups=privileged_groups)\n",
        "RW.fit(dataset_orig_train)\n",
        "dataset_transf_train = RW.transform(dataset_orig_train)\n",
        "assert np.abs(dataset_transf_train.instance_weights.sum()-dataset_orig_train.instance_weights.sum())<1e-6"
      ],
      "metadata": {
        "id": "i5YyYPI2fLDG"
      },
      "execution_count": 35,
      "outputs": []
    },
    {
      "cell_type": "code",
      "source": [
        "metric_transf_train = BinaryLabelDatasetMetric(dataset_transf_train,\n",
        "                                         unprivileged_groups=unprivileged_groups,\n",
        "                                         privileged_groups=privileged_groups)\n",
        "display(Markdown(\"#### Transformed training dataset\"))\n",
        "print(\"Difference in mean outcomes between unprivileged and privileged groups = %f\" % metric_transf_train.mean_difference())"
      ],
      "metadata": {
        "colab": {
          "base_uri": "https://localhost:8080/",
          "height": 74
        },
        "id": "50G-6xdCj2Zl",
        "outputId": "db416a8e-bc47-4f7d-ef26-31c5e52603c5"
      },
      "execution_count": 36,
      "outputs": [
        {
          "output_type": "display_data",
          "data": {
            "text/plain": [
              "<IPython.core.display.Markdown object>"
            ],
            "text/markdown": "#### Transformed training dataset"
          },
          "metadata": {}
        },
        {
          "output_type": "stream",
          "name": "stdout",
          "text": [
            "Difference in mean outcomes between unprivileged and privileged groups = -0.000000\n"
          ]
        }
      ]
    },
    {
      "cell_type": "code",
      "source": [
        "print(\"Original training dataset shape:\", dataset_orig_train.features.shape)\n",
        "print(\"Original testing dataset shape:\", dataset_orig_test.shape)"
      ],
      "metadata": {
        "colab": {
          "base_uri": "https://localhost:8080/"
        },
        "id": "23WETklPleKO",
        "outputId": "6dda597c-1e6a-4568-e938-d121cff04b03"
      },
      "execution_count": 37,
      "outputs": [
        {
          "output_type": "stream",
          "name": "stdout",
          "text": [
            "Original training dataset shape: (1319, 31)\n",
            "Original testing dataset shape: (566, 32)\n"
          ]
        }
      ]
    },
    {
      "cell_type": "code",
      "source": [
        "def train_and_evaluate_model(model, X_train, y_train, X_test, y_test, group, model_name):\n",
        "    model.fit(X_train, y_train)\n",
        "    y_pred = model.predict(X_test)\n",
        "\n",
        "    accuracy = accuracy_score(y_test, y_pred)\n",
        "    balanced_acc = balanced_accuracy_score(y_test, y_pred)\n",
        "    print(f\"\\n{model_name} - Regular Data\")\n",
        "    print(f\"Accuracy: {accuracy:.2f}\")\n",
        "    print(f\"Balanced Accuracy: {balanced_acc:.2f}\")\n",
        "    print(\"\\nClassification Report:\\n\", classification_report(y_test, y_pred))\n",
        "\n",
        "    # Fairness metrics\n",
        "    equalized_odds = calculate_equalized_odds(y_test, y_pred, group)\n",
        "    predictive_parity = calculate_predictive_value_parity(y_test, y_pred, group)\n",
        "\n",
        "    print(\"\\nEqualized Odds (TPR, FPR) by Group:\")\n",
        "    for g, metrics in equalized_odds.items():\n",
        "        print(f\"Group {g}: TPR = {metrics['TPR']:.2f}, FPR = {metrics['FPR']:.2f}\")\n",
        "\n",
        "    print(\"\\nPredictive Parity (PPV) by Group:\")\n",
        "    for g, ppv in predictive_parity.items():\n",
        "        print(f\"Group {g}: PPV = {ppv:.2f}\")\n",
        "\n",
        "    return y_pred"
      ],
      "metadata": {
        "id": "H4vfDfMBnx00"
      },
      "execution_count": 38,
      "outputs": []
    },
    {
      "cell_type": "code",
      "source": [
        "def calculate_equalized_odds(y_true, y_pred, group):\n",
        "    tpr_fpr = defaultdict(dict)\n",
        "    unique_groups = np.unique(group)\n",
        "\n",
        "    for g in unique_groups:\n",
        "        mask = group == g\n",
        "        tn, fp, fn, tp = confusion_matrix(y_true[mask], y_pred[mask]).ravel()\n",
        "        tpr = tp / (tp + fn) if (tp + fn) > 0 else 0  # Sensitivity\n",
        "        fpr = fp / (fp + tn) if (fp + tn) > 0 else 0  # Fall-out\n",
        "        tpr_fpr[g] = {\"TPR\": tpr, \"FPR\": fpr}\n",
        "\n",
        "    return tpr_fpr"
      ],
      "metadata": {
        "id": "qZtYjQwCn4Jc"
      },
      "execution_count": 39,
      "outputs": []
    },
    {
      "cell_type": "code",
      "source": [
        "def calculate_predictive_value_parity(y_true, y_pred, group):\n",
        "    ppv = {}\n",
        "    unique_groups = np.unique(group)\n",
        "\n",
        "    for g in unique_groups:\n",
        "        mask = group == g\n",
        "        precision = precision_score(y_true[mask], y_pred[mask], zero_division=0)\n",
        "        ppv[g] = precision\n",
        "\n",
        "    return ppv"
      ],
      "metadata": {
        "id": "AsJtasCAn69X"
      },
      "execution_count": 40,
      "outputs": []
    },
    {
      "cell_type": "code",
      "source": [
        "# Create a StandardScaler object\n",
        "scaler = StandardScaler()\n",
        "\n",
        "# Fit the scaler to the training data and transform it\n",
        "X_train_scaled = scaler.fit_transform(X_train)\n",
        "\n",
        "# Transform the testing data using the fitted scaler\n",
        "X_test_scaled = scaler.transform(X_test)\n",
        "\n",
        "# Then call the train_and_evaluate_model function with the scaled data\n",
        "knn_regular = KNeighborsClassifier(n_neighbors=5)\n",
        "y_pred_knn_regular = train_and_evaluate_model(\n",
        "    knn_regular, X_train_scaled, y_train, X_test_scaled, y_test, dataset_orig_test[bias_group], \"KNN Model\"\n",
        ")\n"
      ],
      "metadata": {
        "colab": {
          "base_uri": "https://localhost:8080/"
        },
        "id": "-ToOM_-co2oI",
        "outputId": "f2be5f3e-24ba-4a1a-8483-26c77467ea2e"
      },
      "execution_count": 41,
      "outputs": [
        {
          "output_type": "stream",
          "name": "stdout",
          "text": [
            "\n",
            "KNN Model - Regular Data\n",
            "Accuracy: 0.83\n",
            "Balanced Accuracy: 0.83\n",
            "\n",
            "Classification Report:\n",
            "               precision    recall  f1-score   support\n",
            "\n",
            "           0       0.78      0.86      0.82       249\n",
            "           1       0.88      0.80      0.84       317\n",
            "\n",
            "    accuracy                           0.83       566\n",
            "   macro avg       0.83      0.83      0.83       566\n",
            "weighted avg       0.83      0.83      0.83       566\n",
            "\n",
            "\n",
            "Equalized Odds (TPR, FPR) by Group:\n",
            "Group 0: TPR = 0.90, FPR = 0.05\n",
            "Group 1: TPR = 0.79, FPR = 0.15\n",
            "\n",
            "Predictive Parity (PPV) by Group:\n",
            "Group 0: PPV = 0.96\n",
            "Group 1: PPV = 0.87\n"
          ]
        }
      ]
    },
    {
      "cell_type": "code",
      "source": [
        "rf_regular = RandomForestClassifier(random_state=42)\n",
        "y_pred_rf_regular = train_and_evaluate_model(\n",
        "    rf_regular, X_train, y_train, X_test, y_test, dataset_orig_test[bias_group], \"Random Forest Model\"\n",
        ")"
      ],
      "metadata": {
        "colab": {
          "base_uri": "https://localhost:8080/"
        },
        "id": "FfgMkxuXpfwv",
        "outputId": "ebdb0961-a289-4a35-f331-e014c0e190a3"
      },
      "execution_count": 42,
      "outputs": [
        {
          "output_type": "stream",
          "name": "stdout",
          "text": [
            "\n",
            "Random Forest Model - Regular Data\n",
            "Accuracy: 0.88\n",
            "Balanced Accuracy: 0.88\n",
            "\n",
            "Classification Report:\n",
            "               precision    recall  f1-score   support\n",
            "\n",
            "           0       0.87      0.86      0.86       249\n",
            "           1       0.89      0.90      0.89       317\n",
            "\n",
            "    accuracy                           0.88       566\n",
            "   macro avg       0.88      0.88      0.88       566\n",
            "weighted avg       0.88      0.88      0.88       566\n",
            "\n",
            "\n",
            "Equalized Odds (TPR, FPR) by Group:\n",
            "Group 0: TPR = 0.93, FPR = 0.05\n",
            "Group 1: TPR = 0.89, FPR = 0.15\n",
            "\n",
            "Predictive Parity (PPV) by Group:\n",
            "Group 0: PPV = 0.97\n",
            "Group 1: PPV = 0.88\n"
          ]
        }
      ]
    },
    {
      "cell_type": "code",
      "source": [
        "logistic_regular = LogisticRegression(random_state=42, max_iter=1000)\n",
        "y_pred_logistic_regular = train_and_evaluate_model(\n",
        "    logistic_regular, X_train_scaled, y_train, X_test_scaled, y_test, dataset_orig_test[bias_group], \"Logistic Regression Model\"\n",
        ")"
      ],
      "metadata": {
        "colab": {
          "base_uri": "https://localhost:8080/"
        },
        "id": "_c_UB-SiqAl7",
        "outputId": "538fd5fb-1017-4692-8b69-0540781c291e"
      },
      "execution_count": 43,
      "outputs": [
        {
          "output_type": "stream",
          "name": "stdout",
          "text": [
            "\n",
            "Logistic Regression Model - Regular Data\n",
            "Accuracy: 0.85\n",
            "Balanced Accuracy: 0.85\n",
            "\n",
            "Classification Report:\n",
            "               precision    recall  f1-score   support\n",
            "\n",
            "           0       0.80      0.86      0.83       249\n",
            "           1       0.89      0.83      0.86       317\n",
            "\n",
            "    accuracy                           0.85       566\n",
            "   macro avg       0.84      0.85      0.85       566\n",
            "weighted avg       0.85      0.85      0.85       566\n",
            "\n",
            "\n",
            "Equalized Odds (TPR, FPR) by Group:\n",
            "Group 0: TPR = 0.93, FPR = 0.05\n",
            "Group 1: TPR = 0.82, FPR = 0.14\n",
            "\n",
            "Predictive Parity (PPV) by Group:\n",
            "Group 0: PPV = 0.97\n",
            "Group 1: PPV = 0.88\n"
          ]
        }
      ]
    },
    {
      "cell_type": "code",
      "source": [
        "feature_columns = dataset_orig_test.columns[1:]  # Exclude the 'ID' column, assuming it's the first\n",
        "\n",
        "# Select the same columns from dataset_orig_test to create X_test_rw\n",
        "X_test_rw = dataset_orig_test[feature_columns].astype(float)\n",
        "\n",
        "# Scale the data\n",
        "scaler = StandardScaler()\n",
        "X_train_scaled_rw = scaler.fit_transform(X_train_rw)\n",
        "X_test_scaled_rw = scaler.transform(X_test_rw)"
      ],
      "metadata": {
        "colab": {
          "base_uri": "https://localhost:8080/"
        },
        "id": "TIbglBZLt6_c",
        "outputId": "ae0987fb-2985-4024-dfa3-2a1b7ffac08f"
      },
      "execution_count": 44,
      "outputs": [
        {
          "output_type": "stream",
          "name": "stderr",
          "text": [
            "/usr/local/lib/python3.10/dist-packages/sklearn/base.py:486: UserWarning: X has feature names, but StandardScaler was fitted without feature names\n",
            "  warnings.warn(\n"
          ]
        }
      ]
    },
    {
      "cell_type": "code",
      "source": [
        "knn_reweighted = KNeighborsClassifier(n_neighbors=5)\n",
        "y_pred_knn_reweighted = train_and_evaluate_model(\n",
        "    knn_reweighted, X_train_scaled_rw, y_train, X_test_scaled_rw, y_test, dataset_orig_test[bias_group], \"KNN Model - reweighted\"\n",
        ")"
      ],
      "metadata": {
        "colab": {
          "base_uri": "https://localhost:8080/"
        },
        "id": "YojyPiN2rbn-",
        "outputId": "2a1cb836-1ee6-4ffc-828b-5d3289ac3a49"
      },
      "execution_count": 45,
      "outputs": [
        {
          "output_type": "stream",
          "name": "stdout",
          "text": [
            "\n",
            "KNN Model - reweighted - Regular Data\n",
            "Accuracy: 0.75\n",
            "Balanced Accuracy: 0.77\n",
            "\n",
            "Classification Report:\n",
            "               precision    recall  f1-score   support\n",
            "\n",
            "           0       0.66      0.89      0.76       249\n",
            "           1       0.88      0.65      0.75       317\n",
            "\n",
            "    accuracy                           0.75       566\n",
            "   macro avg       0.77      0.77      0.75       566\n",
            "weighted avg       0.79      0.75      0.75       566\n",
            "\n",
            "\n",
            "Equalized Odds (TPR, FPR) by Group:\n",
            "Group 0: TPR = 0.77, FPR = 0.00\n",
            "Group 1: TPR = 0.63, FPR = 0.12\n",
            "\n",
            "Predictive Parity (PPV) by Group:\n",
            "Group 0: PPV = 1.00\n",
            "Group 1: PPV = 0.87\n"
          ]
        }
      ]
    },
    {
      "cell_type": "code",
      "source": [
        "\n",
        "logistic_reweighted = LogisticRegression(random_state=42, max_iter=1000)\n",
        "y_pred_logistic_reweighted = train_and_evaluate_model(\n",
        "    logistic_reweighted, X_train_scaled_rw, dataset_transf_train.labels.ravel(), X_test_scaled_rw, y_test, dataset_orig_test[bias_group], \"Logistic Regression Model - Reweighted\"\n",
        ")"
      ],
      "metadata": {
        "colab": {
          "base_uri": "https://localhost:8080/"
        },
        "id": "Cp0yQ1gdr_J5",
        "outputId": "2008199a-2d92-48b0-cb2a-f8f0558a3d73"
      },
      "execution_count": 46,
      "outputs": [
        {
          "output_type": "stream",
          "name": "stdout",
          "text": [
            "\n",
            "Logistic Regression Model - Reweighted - Regular Data\n",
            "Accuracy: 0.78\n",
            "Balanced Accuracy: 0.77\n",
            "\n",
            "Classification Report:\n",
            "               precision    recall  f1-score   support\n",
            "\n",
            "           0       0.77      0.71      0.74       249\n",
            "           1       0.79      0.83      0.81       317\n",
            "\n",
            "    accuracy                           0.78       566\n",
            "   macro avg       0.78      0.77      0.78       566\n",
            "weighted avg       0.78      0.78      0.78       566\n",
            "\n",
            "\n",
            "Equalized Odds (TPR, FPR) by Group:\n",
            "Group 0: TPR = 0.93, FPR = 0.35\n",
            "Group 1: TPR = 0.82, FPR = 0.28\n",
            "\n",
            "Predictive Parity (PPV) by Group:\n",
            "Group 0: PPV = 0.80\n",
            "Group 1: PPV = 0.79\n"
          ]
        }
      ]
    },
    {
      "cell_type": "code",
      "source": [
        "# Assuming dataset_transf_train and dataset_orig_test are already defined and processed\n",
        "# Extract features and labels from dataset_transf_train\n",
        "X_train_rw = dataset_transf_train.features\n",
        "y_train = dataset_transf_train.labels.ravel()  # Flatten labels\n",
        "\n",
        "# Extract features from dataset_orig_test\n",
        "feature_columns = dataset_orig_test.columns[1:]  # Exclude the 'ID' column, assuming it's the first\n",
        "X_test_rw = dataset_orig_test[feature_columns].astype(float)\n",
        "\n",
        "# Scale the data\n",
        "scaler = StandardScaler()\n",
        "X_train_scaled_rw = scaler.fit_transform(X_train_rw)\n",
        "X_test_scaled_rw = scaler.transform(X_test_rw)\n",
        "\n",
        "rf_reweighted = RandomForestClassifier(random_state=42)\n",
        "y_pred_rf_reweighted = train_and_evaluate_model(\n",
        "    rf_reweighted, X_train_scaled_rw, y_train, X_test_scaled_rw, y_test, dataset_orig_test[bias_group], \"Random Forest Model - Reweighted\"\n",
        ")"
      ],
      "metadata": {
        "colab": {
          "base_uri": "https://localhost:8080/"
        },
        "id": "D4adzqx6xrYL",
        "outputId": "81687789-6bcb-44e6-efb3-4d69d9c51b32"
      },
      "execution_count": 47,
      "outputs": [
        {
          "output_type": "stream",
          "name": "stderr",
          "text": [
            "/usr/local/lib/python3.10/dist-packages/sklearn/base.py:486: UserWarning: X has feature names, but StandardScaler was fitted without feature names\n",
            "  warnings.warn(\n"
          ]
        },
        {
          "output_type": "stream",
          "name": "stdout",
          "text": [
            "\n",
            "Random Forest Model - Reweighted - Regular Data\n",
            "Accuracy: 0.81\n",
            "Balanced Accuracy: 0.82\n",
            "\n",
            "Classification Report:\n",
            "               precision    recall  f1-score   support\n",
            "\n",
            "           0       0.73      0.90      0.81       249\n",
            "           1       0.90      0.74      0.82       317\n",
            "\n",
            "    accuracy                           0.81       566\n",
            "   macro avg       0.82      0.82      0.81       566\n",
            "weighted avg       0.83      0.81      0.81       566\n",
            "\n",
            "\n",
            "Equalized Odds (TPR, FPR) by Group:\n",
            "Group 0: TPR = 0.87, FPR = 0.05\n",
            "Group 1: TPR = 0.73, FPR = 0.11\n",
            "\n",
            "Predictive Parity (PPV) by Group:\n",
            "Group 0: PPV = 0.96\n",
            "Group 1: PPV = 0.89\n"
          ]
        }
      ]
    }
  ]
}